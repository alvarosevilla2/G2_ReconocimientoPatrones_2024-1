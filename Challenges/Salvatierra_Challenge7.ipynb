{
  "nbformat": 4,
  "nbformat_minor": 0,
  "metadata": {
    "colab": {
      "provenance": []
    },
    "kernelspec": {
      "name": "python3",
      "display_name": "Python 3"
    },
    "language_info": {
      "name": "python"
    }
  },
  "cells": [
    {
      "cell_type": "markdown",
      "source": [
        "- Buscar una base de datos de Physionet de imágenes médicas y extraer una porción de ellas (probablemente 50 imágenes de cada clase)\n",
        "- Hacer una red neuronal multicapa grande para hacer la clasificación consideren usar 3 capas ocultas o más\n",
        "- Luego prueban si hay overfitting, si hay, reducir la red, aplicar regularización y dropout en ese orden. Luego probar combinaciones entre ellas para mejorar el modelo. Verificar con funciones de pérdida o costo [min 20 epoc] y métrica accuracy."
      ],
      "metadata": {
        "id": "CfJ-gZPoTVhN"
      }
    },
    {
      "cell_type": "markdown",
      "source": [
        "Diego Salvatierra Guillermo 71468870"
      ],
      "metadata": {
        "id": "4W09gJoiZH_z"
      }
    },
    {
      "cell_type": "code",
      "execution_count": 83,
      "metadata": {
        "id": "dAP4BYFEQzHE"
      },
      "outputs": [],
      "source": [
        "import os\n",
        "import numpy as np\n",
        "import cv2\n",
        "import tensorflow as tf\n",
        "from sklearn.model_selection import train_test_split\n",
        "from keras.models import Sequential\n",
        "from keras.layers import Conv2D, MaxPooling2D, Flatten, Dense, Dropout\n",
        "from keras import models, layers, optimizers"
      ]
    },
    {
      "cell_type": "code",
      "source": [
        "\n",
        "\n",
        "# Parámetros de la red neuronal\n",
        "input_shape = (150, 150, 3)  # Tamaño de las imágenes\n",
        "num_classes = 4\n",
        "batch_size = 32\n",
        "epochs = 20\n",
        "\n",
        "\n"
      ],
      "metadata": {
        "id": "w2OkvAaDGERO"
      },
      "execution_count": 84,
      "outputs": []
    },
    {
      "cell_type": "markdown",
      "source": [
        "Para fines del challenge, se ha separado la data en 4 carpetas, cada carpeta representa una clase: 'glicoma', 'meningioma', 'notumor', 'pituitary'.\n",
        "Y se han colocado 50 imágenes en cada carpeta. La base de datos está disponibe en : https://www.kaggle.com/datasets/masoudnickparvar/brain-tumor-mri-dataset/data\n"
      ],
      "metadata": {
        "id": "y-Zv9cIbY2t9"
      }
    },
    {
      "cell_type": "code",
      "source": [
        "# Cargar imágenes\n",
        "def load_data(data_dir, classes):\n",
        "    images = []\n",
        "    labels = []\n",
        "    for i, cls in enumerate(classes):\n",
        "        folder_path = os.path.join(data_dir, cls)\n",
        "        print(\"Cargando imágenes de la carpeta:\", folder_path)\n",
        "        for filename in os.listdir(folder_path):\n",
        "            img_path = os.path.join(folder_path, filename)\n",
        "            print(\"Cargando imagen:\", img_path)\n",
        "            img = cv2.imread(img_path)\n",
        "            img = cv2.resize(img, (150, 150))  # Ajusta el tamaño de la imagen según tu preferencia\n",
        "            images.append(img)\n",
        "            labels.append(i)\n",
        "    images = np.array(images)\n",
        "    labels = np.array(labels)\n",
        "    return images, labels\n",
        "\n",
        "# Establecer la ruta de las carpetas de las imágenes\n",
        "data_dir = '/content'  # Directorio principal que contiene las subcarpetas de las clases\n",
        "classes = ['glicoma', 'meningioma', 'notumor', 'pituitary']  # Nombre de las subcarpetas/clases\n",
        "\n",
        "images, labels = load_data(data_dir, classes)"
      ],
      "metadata": {
        "colab": {
          "base_uri": "https://localhost:8080/"
        },
        "id": "SN1A0xUYGNO2",
        "outputId": "d6855501-1168-4cfc-87ee-1d871890c08f"
      },
      "execution_count": 85,
      "outputs": [
        {
          "output_type": "stream",
          "name": "stdout",
          "text": [
            "Cargando imágenes de la carpeta: /content/glicoma\n",
            "Cargando imagen: /content/glicoma/Te-gl_0020.jpg\n",
            "Cargando imagen: /content/glicoma/Te-gl_0048.jpg\n",
            "Cargando imagen: /content/glicoma/Te-gl_0039.jpg\n",
            "Cargando imagen: /content/glicoma/Te-gl_0013.jpg\n",
            "Cargando imagen: /content/glicoma/Te-gl_0012.jpg\n",
            "Cargando imagen: /content/glicoma/Te-gl_0058.jpg\n",
            "Cargando imagen: /content/glicoma/Te-gl_0011.jpg\n",
            "Cargando imagen: /content/glicoma/Te-gl_0059.jpg\n",
            "Cargando imagen: /content/glicoma/Te-gl_0015.jpg\n",
            "Cargando imagen: /content/glicoma/Te-gl_0047.jpg\n",
            "Cargando imagen: /content/glicoma/Te-gl_0044.jpg\n",
            "Cargando imagen: /content/glicoma/Te-gl_0022.jpg\n",
            "Cargando imagen: /content/glicoma/Te-gl_0056.jpg\n",
            "Cargando imagen: /content/glicoma/Te-gl_0021.jpg\n",
            "Cargando imagen: /content/glicoma/Te-gl_0025.jpg\n",
            "Cargando imagen: /content/glicoma/Te-gl_0035.jpg\n",
            "Cargando imagen: /content/glicoma/Te-gl_0030.jpg\n",
            "Cargando imagen: /content/glicoma/Te-gl_0042.jpg\n",
            "Cargando imagen: /content/glicoma/Te-gl_0036.jpg\n",
            "Cargando imagen: /content/glicoma/Te-gl_0028.jpg\n",
            "Cargando imagen: /content/glicoma/Te-gl_0051.jpg\n",
            "Cargando imagen: /content/glicoma/Te-gl_0052.jpg\n",
            "Cargando imagen: /content/glicoma/Te-gl_0054.jpg\n",
            "Cargando imagen: /content/glicoma/Te-gl_0014.jpg\n",
            "Cargando imagen: /content/glicoma/Te-gl_0019.jpg\n",
            "Cargando imagen: /content/glicoma/Te-gl_0053.jpg\n",
            "Cargando imagen: /content/glicoma/Te-gl_0027.jpg\n",
            "Cargando imagen: /content/glicoma/Te-gl_0032.jpg\n",
            "Cargando imagen: /content/glicoma/Te-gl_0037.jpg\n",
            "Cargando imagen: /content/glicoma/Te-gl_0040.jpg\n",
            "Cargando imagen: /content/glicoma/Te-gl_0031.jpg\n",
            "Cargando imagen: /content/glicoma/Te-gl_0057.jpg\n",
            "Cargando imagen: /content/glicoma/Te-gl_0046.jpg\n",
            "Cargando imagen: /content/glicoma/Te-gl_0050.jpg\n",
            "Cargando imagen: /content/glicoma/Te-gl_0041.jpg\n",
            "Cargando imagen: /content/glicoma/Te-gl_0029.jpg\n",
            "Cargando imagen: /content/glicoma/Te-gl_0033.jpg\n",
            "Cargando imagen: /content/glicoma/Te-gl_0016.jpg\n",
            "Cargando imagen: /content/glicoma/Te-gl_0038.jpg\n",
            "Cargando imagen: /content/glicoma/Te-gl_0049.jpg\n",
            "Cargando imagen: /content/glicoma/Te-gl_0017.jpg\n",
            "Cargando imagen: /content/glicoma/Te-gl_0024.jpg\n",
            "Cargando imagen: /content/glicoma/Te-gl_0055.jpg\n",
            "Cargando imagen: /content/glicoma/Te-gl_0026.jpg\n",
            "Cargando imagen: /content/glicoma/Te-gl_0045.jpg\n",
            "Cargando imagen: /content/glicoma/Te-gl_0023.jpg\n",
            "Cargando imagen: /content/glicoma/Te-gl_0010.jpg\n",
            "Cargando imagen: /content/glicoma/Te-gl_0034.jpg\n",
            "Cargando imagen: /content/glicoma/Te-gl_0043.jpg\n",
            "Cargando imagen: /content/glicoma/Te-gl_0018.jpg\n",
            "Cargando imágenes de la carpeta: /content/meningioma\n",
            "Cargando imagen: /content/meningioma/Te-me_0018.jpg\n",
            "Cargando imagen: /content/meningioma/Te-me_0027.jpg\n",
            "Cargando imagen: /content/meningioma/Te-me_0039.jpg\n",
            "Cargando imagen: /content/meningioma/Te-me_0037.jpg\n",
            "Cargando imagen: /content/meningioma/Te-me_0033.jpg\n",
            "Cargando imagen: /content/meningioma/Te-me_0010.jpg\n",
            "Cargando imagen: /content/meningioma/Te-me_0012.jpg\n",
            "Cargando imagen: /content/meningioma/Te-me_0016.jpg\n",
            "Cargando imagen: /content/meningioma/Te-me_0047.jpg\n",
            "Cargando imagen: /content/meningioma/Te-me_0054.jpg\n",
            "Cargando imagen: /content/meningioma/Te-me_0015.jpg\n",
            "Cargando imagen: /content/meningioma/Te-me_0024.jpg\n",
            "Cargando imagen: /content/meningioma/Te-me_0014.jpg\n",
            "Cargando imagen: /content/meningioma/Te-me_0013.jpg\n",
            "Cargando imagen: /content/meningioma/Te-me_0025.jpg\n",
            "Cargando imagen: /content/meningioma/Te-me_0011.jpg\n",
            "Cargando imagen: /content/meningioma/Te-me_0059.jpg\n",
            "Cargando imagen: /content/meningioma/Te-me_0030.jpg\n",
            "Cargando imagen: /content/meningioma/Te-me_0023.jpg\n",
            "Cargando imagen: /content/meningioma/Te-me_0026.jpg\n",
            "Cargando imagen: /content/meningioma/Te-me_0045.jpg\n",
            "Cargando imagen: /content/meningioma/Te-me_0043.jpg\n",
            "Cargando imagen: /content/meningioma/Te-me_0022.jpg\n",
            "Cargando imagen: /content/meningioma/Te-me_0056.jpg\n",
            "Cargando imagen: /content/meningioma/Te-me_0019.jpg\n",
            "Cargando imagen: /content/meningioma/Te-me_0051.jpg\n",
            "Cargando imagen: /content/meningioma/Te-me_0046.jpg\n",
            "Cargando imagen: /content/meningioma/Te-me_0050.jpg\n",
            "Cargando imagen: /content/meningioma/Te-me_0020.jpg\n",
            "Cargando imagen: /content/meningioma/Te-me_0042.jpg\n",
            "Cargando imagen: /content/meningioma/Te-me_0032.jpg\n",
            "Cargando imagen: /content/meningioma/Te-me_0021.jpg\n",
            "Cargando imagen: /content/meningioma/Te-me_0041.jpg\n",
            "Cargando imagen: /content/meningioma/Te-me_0057.jpg\n",
            "Cargando imagen: /content/meningioma/Te-me_0028.jpg\n",
            "Cargando imagen: /content/meningioma/Te-me_0049.jpg\n",
            "Cargando imagen: /content/meningioma/Te-me_0029.jpg\n",
            "Cargando imagen: /content/meningioma/Te-me_0048.jpg\n",
            "Cargando imagen: /content/meningioma/Te-me_0040.jpg\n",
            "Cargando imagen: /content/meningioma/Te-me_0044.jpg\n",
            "Cargando imagen: /content/meningioma/Te-me_0058.jpg\n",
            "Cargando imagen: /content/meningioma/Te-me_0038.jpg\n",
            "Cargando imagen: /content/meningioma/Te-me_0017.jpg\n",
            "Cargando imagen: /content/meningioma/Te-me_0034.jpg\n",
            "Cargando imagen: /content/meningioma/Te-me_0052.jpg\n",
            "Cargando imagen: /content/meningioma/Te-me_0053.jpg\n",
            "Cargando imagen: /content/meningioma/Te-me_0055.jpg\n",
            "Cargando imagen: /content/meningioma/Te-me_0031.jpg\n",
            "Cargando imagen: /content/meningioma/Te-me_0035.jpg\n",
            "Cargando imagen: /content/meningioma/Te-me_0036.jpg\n",
            "Cargando imágenes de la carpeta: /content/notumor\n",
            "Cargando imagen: /content/notumor/Te-no_0054.jpg\n",
            "Cargando imagen: /content/notumor/Te-no_0057.jpg\n",
            "Cargando imagen: /content/notumor/Te-no_0046.jpg\n",
            "Cargando imagen: /content/notumor/Te-no_0020.jpg\n",
            "Cargando imagen: /content/notumor/Te-no_0028.jpg\n",
            "Cargando imagen: /content/notumor/Te-no_0040.jpg\n",
            "Cargando imagen: /content/notumor/Te-no_0043.jpg\n",
            "Cargando imagen: /content/notumor/Te-no_0047.jpg\n",
            "Cargando imagen: /content/notumor/Te-no_0017.jpg\n",
            "Cargando imagen: /content/notumor/Te-no_0051.jpg\n",
            "Cargando imagen: /content/notumor/Te-no_0022.jpg\n",
            "Cargando imagen: /content/notumor/Te-no_0045.jpg\n",
            "Cargando imagen: /content/notumor/Te-no_0056.jpg\n",
            "Cargando imagen: /content/notumor/Te-no_0058.jpg\n",
            "Cargando imagen: /content/notumor/Te-no_0041.jpg\n",
            "Cargando imagen: /content/notumor/Te-no_0052.jpg\n",
            "Cargando imagen: /content/notumor/Te-no_0044.jpg\n",
            "Cargando imagen: /content/notumor/Te-no_0026.jpg\n",
            "Cargando imagen: /content/notumor/Te-no_0050.jpg\n",
            "Cargando imagen: /content/notumor/Te-no_0019.jpg\n",
            "Cargando imagen: /content/notumor/Te-no_0012.jpg\n",
            "Cargando imagen: /content/notumor/Te-no_0010.jpg\n",
            "Cargando imagen: /content/notumor/Te-no_0024.jpg\n",
            "Cargando imagen: /content/notumor/Te-no_0039.jpg\n",
            "Cargando imagen: /content/notumor/Te-no_0032.jpg\n",
            "Cargando imagen: /content/notumor/Te-no_0025.jpg\n",
            "Cargando imagen: /content/notumor/Te-no_0011.jpg\n",
            "Cargando imagen: /content/notumor/Te-no_0035.jpg\n",
            "Cargando imagen: /content/notumor/Te-no_0021.jpg\n",
            "Cargando imagen: /content/notumor/Te-no_0053.jpg\n",
            "Cargando imagen: /content/notumor/Te-no_0015.jpg\n",
            "Cargando imagen: /content/notumor/Te-no_0031.jpg\n",
            "Cargando imagen: /content/notumor/Te-no_0055.jpg\n",
            "Cargando imagen: /content/notumor/Te-no_0014.jpg\n",
            "Cargando imagen: /content/notumor/Te-no_0013.jpg\n",
            "Cargando imagen: /content/notumor/Te-no_0018.jpg\n",
            "Cargando imagen: /content/notumor/Te-no_0042.jpg\n",
            "Cargando imagen: /content/notumor/Te-no_0029.jpg\n",
            "Cargando imagen: /content/notumor/Te-no_0049.jpg\n",
            "Cargando imagen: /content/notumor/Te-no_0027.jpg\n",
            "Cargando imagen: /content/notumor/Te-no_0036.jpg\n",
            "Cargando imagen: /content/notumor/Te-no_0023.jpg\n",
            "Cargando imagen: /content/notumor/Te-no_0037.jpg\n",
            "Cargando imagen: /content/notumor/Te-no_0016.jpg\n",
            "Cargando imagen: /content/notumor/Te-no_0030.jpg\n",
            "Cargando imagen: /content/notumor/Te-no_0033.jpg\n",
            "Cargando imagen: /content/notumor/Te-no_0048.jpg\n",
            "Cargando imagen: /content/notumor/Te-no_0034.jpg\n",
            "Cargando imagen: /content/notumor/Te-no_0038.jpg\n",
            "Cargando imagen: /content/notumor/Te-no_0059.jpg\n",
            "Cargando imágenes de la carpeta: /content/pituitary\n",
            "Cargando imagen: /content/pituitary/Te-pi_0033.jpg\n",
            "Cargando imagen: /content/pituitary/Te-pi_0054.jpg\n",
            "Cargando imagen: /content/pituitary/Te-pi_0035.jpg\n",
            "Cargando imagen: /content/pituitary/Te-pi_0037.jpg\n",
            "Cargando imagen: /content/pituitary/Te-pi_0025.jpg\n",
            "Cargando imagen: /content/pituitary/Te-pi_0011.jpg\n",
            "Cargando imagen: /content/pituitary/Te-pi_0050.jpg\n",
            "Cargando imagen: /content/pituitary/Te-pi_0028.jpg\n",
            "Cargando imagen: /content/pituitary/Te-pi_0019.jpg\n",
            "Cargando imagen: /content/pituitary/Te-pi_0040.jpg\n",
            "Cargando imagen: /content/pituitary/Te-pi_0046.jpg\n",
            "Cargando imagen: /content/pituitary/Te-pi_0038.jpg\n",
            "Cargando imagen: /content/pituitary/Te-pi_0032.jpg\n",
            "Cargando imagen: /content/pituitary/Te-pi_0014.jpg\n",
            "Cargando imagen: /content/pituitary/Te-pi_0013.jpg\n",
            "Cargando imagen: /content/pituitary/Te-pi_0049.jpg\n",
            "Cargando imagen: /content/pituitary/Te-pi_0039.jpg\n",
            "Cargando imagen: /content/pituitary/Te-pi_0052.jpg\n",
            "Cargando imagen: /content/pituitary/Te-pi_0018.jpg\n",
            "Cargando imagen: /content/pituitary/Te-pi_0036.jpg\n",
            "Cargando imagen: /content/pituitary/Te-pi_0027.jpg\n",
            "Cargando imagen: /content/pituitary/Te-pi_0026.jpg\n",
            "Cargando imagen: /content/pituitary/Te-pi_0017.jpg\n",
            "Cargando imagen: /content/pituitary/Te-pi_0044.jpg\n",
            "Cargando imagen: /content/pituitary/Te-pi_0022.jpg\n",
            "Cargando imagen: /content/pituitary/Te-pi_0045.jpg\n",
            "Cargando imagen: /content/pituitary/Te-pi_0010.jpg\n",
            "Cargando imagen: /content/pituitary/Te-pi_0016.jpg\n",
            "Cargando imagen: /content/pituitary/Te-pi_0048.jpg\n",
            "Cargando imagen: /content/pituitary/Te-pi_0034.jpg\n",
            "Cargando imagen: /content/pituitary/Te-pi_0041.jpg\n",
            "Cargando imagen: /content/pituitary/Te-pi_0042.jpg\n",
            "Cargando imagen: /content/pituitary/Te-pi_0029.jpg\n",
            "Cargando imagen: /content/pituitary/Te-pi_0030.jpg\n",
            "Cargando imagen: /content/pituitary/Te-pi_0051.jpg\n",
            "Cargando imagen: /content/pituitary/Te-pi_0012.jpg\n",
            "Cargando imagen: /content/pituitary/Te-pi_0047.jpg\n",
            "Cargando imagen: /content/pituitary/Te-pi_0020.jpg\n",
            "Cargando imagen: /content/pituitary/Te-pi_0058.jpg\n",
            "Cargando imagen: /content/pituitary/Te-pi_0055.jpg\n",
            "Cargando imagen: /content/pituitary/Te-pi_0015.jpg\n",
            "Cargando imagen: /content/pituitary/Te-pi_0057.jpg\n",
            "Cargando imagen: /content/pituitary/Te-pi_0043.jpg\n",
            "Cargando imagen: /content/pituitary/Te-pi_0023.jpg\n",
            "Cargando imagen: /content/pituitary/Te-pi_0053.jpg\n",
            "Cargando imagen: /content/pituitary/Te-pi_0021.jpg\n",
            "Cargando imagen: /content/pituitary/Te-pi_0056.jpg\n",
            "Cargando imagen: /content/pituitary/Te-pi_0031.jpg\n",
            "Cargando imagen: /content/pituitary/Te-pi_0024.jpg\n",
            "Cargando imagen: /content/pituitary/Te-pi_0059.jpg\n"
          ]
        }
      ]
    },
    {
      "cell_type": "code",
      "source": [
        "# Dividir datos en conjuntos de entrenamiento y prueba\n",
        "x_train, x_test, y_train, y_test = train_test_split(images, labels, test_size=0.2, random_state=42)\n",
        "\n",
        "# Construir la red neuronal\n",
        "model = Sequential()\n",
        "model.add(Flatten(input_shape=input_shape))  # Aplanar la entrada\n",
        "model.add(Dense(512, activation='relu'))\n",
        "model.add(Dense(256, activation='relu'))\n",
        "model.add(Dense(num_classes, activation='softmax'))\n",
        "\n",
        "# Compilar el modelo\n",
        "model.compile(loss='sparse_categorical_crossentropy', optimizer='adam', metrics=['accuracy'])\n",
        "\n",
        "# Entrenar el modelo\n",
        "history=model.fit(x_train, y_train, batch_size=batch_size, epochs=epochs, validation_data=(x_test, y_test))\n",
        "\n",
        "# Evaluar el modelo\n",
        "score = model.evaluate(x_test, y_test, verbose=0)\n",
        "print('Test loss:', score[0])\n",
        "print('Test accuracy:', score[1])"
      ],
      "metadata": {
        "colab": {
          "base_uri": "https://localhost:8080/"
        },
        "id": "oF2nvi1tGO0F",
        "outputId": "e63099ab-f487-431f-c822-cd8fe956180f"
      },
      "execution_count": 89,
      "outputs": [
        {
          "output_type": "stream",
          "name": "stdout",
          "text": [
            "Epoch 1/20\n",
            "5/5 [==============================] - 7s 1s/step - loss: 9038.1973 - accuracy: 0.2562 - val_loss: 6283.5815 - val_accuracy: 0.4000\n",
            "Epoch 2/20\n",
            "5/5 [==============================] - 4s 829ms/step - loss: 3016.4290 - accuracy: 0.4563 - val_loss: 2475.9368 - val_accuracy: 0.3250\n",
            "Epoch 3/20\n",
            "5/5 [==============================] - 5s 1s/step - loss: 1456.7009 - accuracy: 0.4688 - val_loss: 1652.7828 - val_accuracy: 0.3500\n",
            "Epoch 4/20\n",
            "5/5 [==============================] - 7s 2s/step - loss: 595.0563 - accuracy: 0.5375 - val_loss: 438.7428 - val_accuracy: 0.4500\n",
            "Epoch 5/20\n",
            "5/5 [==============================] - 4s 832ms/step - loss: 219.9133 - accuracy: 0.6875 - val_loss: 529.0408 - val_accuracy: 0.4000\n",
            "Epoch 6/20\n",
            "5/5 [==============================] - 4s 839ms/step - loss: 81.4383 - accuracy: 0.8000 - val_loss: 390.5264 - val_accuracy: 0.5000\n",
            "Epoch 7/20\n",
            "5/5 [==============================] - 5s 1s/step - loss: 43.9217 - accuracy: 0.8500 - val_loss: 437.5173 - val_accuracy: 0.4750\n",
            "Epoch 8/20\n",
            "5/5 [==============================] - 4s 720ms/step - loss: 48.1950 - accuracy: 0.8687 - val_loss: 220.5485 - val_accuracy: 0.5750\n",
            "Epoch 9/20\n",
            "5/5 [==============================] - 4s 799ms/step - loss: 72.6014 - accuracy: 0.8750 - val_loss: 187.7964 - val_accuracy: 0.6750\n",
            "Epoch 10/20\n",
            "5/5 [==============================] - 6s 1s/step - loss: 24.8437 - accuracy: 0.9250 - val_loss: 542.5598 - val_accuracy: 0.5250\n",
            "Epoch 11/20\n",
            "5/5 [==============================] - 4s 802ms/step - loss: 31.9917 - accuracy: 0.9375 - val_loss: 258.6856 - val_accuracy: 0.6250\n",
            "Epoch 12/20\n",
            "5/5 [==============================] - 4s 815ms/step - loss: 21.3333 - accuracy: 0.9375 - val_loss: 241.6524 - val_accuracy: 0.5750\n",
            "Epoch 13/20\n",
            "5/5 [==============================] - 6s 1s/step - loss: 43.5922 - accuracy: 0.9000 - val_loss: 384.5863 - val_accuracy: 0.5750\n",
            "Epoch 14/20\n",
            "5/5 [==============================] - 4s 795ms/step - loss: 31.4245 - accuracy: 0.9438 - val_loss: 279.3695 - val_accuracy: 0.5500\n",
            "Epoch 15/20\n",
            "5/5 [==============================] - 4s 750ms/step - loss: 27.4166 - accuracy: 0.8687 - val_loss: 474.2142 - val_accuracy: 0.6000\n",
            "Epoch 16/20\n",
            "5/5 [==============================] - 4s 887ms/step - loss: 37.0241 - accuracy: 0.8500 - val_loss: 212.8193 - val_accuracy: 0.6500\n",
            "Epoch 17/20\n",
            "5/5 [==============================] - 5s 1s/step - loss: 44.7787 - accuracy: 0.9312 - val_loss: 356.9622 - val_accuracy: 0.6000\n",
            "Epoch 18/20\n",
            "5/5 [==============================] - 4s 786ms/step - loss: 20.7248 - accuracy: 0.8875 - val_loss: 332.7554 - val_accuracy: 0.6000\n",
            "Epoch 19/20\n",
            "5/5 [==============================] - 4s 805ms/step - loss: 29.6921 - accuracy: 0.9187 - val_loss: 458.9146 - val_accuracy: 0.5750\n",
            "Epoch 20/20\n",
            "5/5 [==============================] - 6s 1s/step - loss: 48.1897 - accuracy: 0.8813 - val_loss: 275.4272 - val_accuracy: 0.6500\n",
            "Test loss: 275.4271545410156\n",
            "Test accuracy: 0.6499999761581421\n"
          ]
        }
      ]
    },
    {
      "cell_type": "code",
      "source": [
        "# Plotear la pérdida durante el entrenamiento\n",
        "loss_values = history.history['loss']\n",
        "val_loss_values = history.history['val_loss']\n",
        "epochs = range(1, len(loss_values) + 1)\n",
        "\n",
        "plt.plot(epochs, loss_values, 'bo', label='Pérdida en entrenamiento')\n",
        "plt.plot(epochs, val_loss_values, 'b', label='Pérdida en validación')\n",
        "plt.title('Pérdida en entrenamiento y validación')\n",
        "plt.xlabel('Épocas')\n",
        "plt.ylabel('Pérdida')\n",
        "plt.legend()\n",
        "plt.show()"
      ],
      "metadata": {
        "colab": {
          "base_uri": "https://localhost:8080/",
          "height": 474
        },
        "id": "7HW3GPQLK_cJ",
        "outputId": "1ac95bc5-6d1d-441d-c71e-4bb0ea14c0b6"
      },
      "execution_count": 90,
      "outputs": [
        {
          "output_type": "display_data",
          "data": {
            "text/plain": [
              "<Figure size 640x480 with 1 Axes>"
            ],
            "image/png": "[encoded data removed]"
          },
          "metadata": {}
        }
      ]
    },
    {
      "cell_type": "markdown",
      "source": [
        "Podemos ver que a medida que los epoch aumentan, el error de validación disminuye, pero también disminuye el error de test. Esto nos quiere decir que no hay overfitting. Pero el accuracy es bajo (0.65)"
      ],
      "metadata": {
        "id": "JY9f4Bt-NLL5"
      }
    },
    {
      "cell_type": "markdown",
      "source": [
        "Esto se puede deber a que solo hemos usado 50 imágenes por cada clase, y además algunas imágenes estaban volteadas, es decir no estaban uniformizadas. Se podría probar aumentando el número de capas ocultas\n"
      ],
      "metadata": {
        "id": "E9EF6W0CYm-a"
      }
    }
  ]
}